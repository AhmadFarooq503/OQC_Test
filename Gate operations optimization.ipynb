{
 "cells": [
  {
   "cell_type": "markdown",
   "id": "70775125",
   "metadata": {},
   "source": [
    "# Single-Qubit Gate Operators Optimization"
   ]
  },
  {
   "cell_type": "markdown",
   "id": "ec219885",
   "metadata": {},
   "source": [
    "## Part 1"
   ]
  },
  {
   "cell_type": "markdown",
   "id": "43c2d523",
   "metadata": {},
   "source": [
    "### Given Input"
   ]
  },
  {
   "cell_type": "markdown",
   "id": "a2d63266",
   "metadata": {},
   "source": [
    "A string in the form of a comma-separated list of sequential rotations on one particular qubit.\n",
    "The string takes the form: “{Axis}({Angle}}, {Axis}({Angle}), …” where {Axis} can be X or Y and angle is an integer specifying the angle of rotation in degrees. "
   ]
  },
  {
   "cell_type": "markdown",
   "id": "88f26358",
   "metadata": {},
   "source": [
    "### Required Output"
   ]
  },
  {
   "cell_type": "markdown",
   "id": "8e35149c",
   "metadata": {},
   "source": [
    "Generate a list of sequential rotations of gates $X$ and $Y$ to perform on the qubit optimised to perform as few individual rotations as possible.\n"
   ]
  },
  {
   "cell_type": "markdown",
   "id": "0aa413eb",
   "metadata": {},
   "source": [
    "## Solution"
   ]
  },
  {
   "cell_type": "markdown",
   "id": "c51db2fd",
   "metadata": {},
   "source": [
    "Let's first import all the packages that we will need during this task."
   ]
  },
  {
   "cell_type": "code",
   "execution_count": 211,
   "id": "39ef30ce",
   "metadata": {},
   "outputs": [],
   "source": [
    "import numpy as np\n",
    "import random"
   ]
  },
  {
   "cell_type": "markdown",
   "id": "1ef19b0e",
   "metadata": {},
   "source": [
    "Here, we will define the function for $R_x$, $R_y$ and $R_z$. The expression of each Pauli rotations are as follows\n",
    "\\begin{align}\n",
    "R_{x}\\left(\\theta\\right)&=\\cos\\left(\\frac{\\theta}{2}\\right)\\begin{bmatrix}\n",
    "1&0\\\\\n",
    "0&1\n",
    "\\end{bmatrix}\n",
    "-\\dot{\\iota}\\sin\\left(\\frac{\\theta}{2}\\right) \\begin{bmatrix}\n",
    "0&1\\\\\n",
    "1&0\n",
    "\\end{bmatrix}=\\begin{bmatrix}\n",
    "\\cos\\frac{\\theta}{2}&-\\dot{\\iota} \\sin\\frac{\\theta}{2}\\\\\n",
    "-\\dot{\\iota} \\sin\\frac{\\theta}{2}&\\cos\\frac{\\theta}{2}\n",
    "\\end{bmatrix},\\\\\n",
    "R_{y}\\left(\\theta\\right)&=\\cos\\left(\\frac{\\theta}{2}\\right)\\begin{bmatrix}\n",
    "1&0\\\\\n",
    "0&1\n",
    "\\end{bmatrix}\n",
    "-\\dot{\\iota}\\sin\\left(\\frac{\\theta}{2}\\right) \\begin{bmatrix}\n",
    "0&-\\dot{\\iota}\\\\\n",
    "\\dot{\\iota}&0\n",
    "\\end{bmatrix} =\\begin{bmatrix}\n",
    "\\cos\\frac{\\theta}{2}&-\\sin\\frac{\\theta}{2}\\\\\n",
    " \\sin\\frac{\\theta}{2}&\\cos\\frac{\\theta}{2}\n",
    "\\end{bmatrix},\\\\\n",
    "R_{z}\\left(\\theta\\right)&=\\cos\\left(\\frac{\\theta}{2}\\right)\\begin{bmatrix}\n",
    "1&0\\\\\n",
    "0&1\n",
    "\\end{bmatrix}\n",
    "-\\dot{\\iota}\\sin\\left(\\frac{\\theta}{2}\\right) \\begin{bmatrix}\n",
    "1&0\\\\\n",
    "0&-1\n",
    "\\end{bmatrix}=\\begin{bmatrix}\n",
    "e^{-\\dot{\\iota}\\frac{\\theta}{2}}&0\\\\\n",
    " 0&e^{\\dot{\\iota}\\frac{\\theta}{2}}\n",
    "\\end{bmatrix}.\n",
    "\\end{align}"
   ]
  },
  {
   "cell_type": "markdown",
   "id": "07cdadb8",
   "metadata": {},
   "source": [
    "Each function takes input in degrees to generate output."
   ]
  },
  {
   "cell_type": "code",
   "execution_count": 257,
   "id": "f8066e58",
   "metadata": {},
   "outputs": [],
   "source": [
    "def Rx(theta):\n",
    "    I=np.array([[1,0],[0,1]])\n",
    "    X=np.array([[0,1],[1,0]])\n",
    "    return (np.cos(theta*np.pi/(2*180))*I-1j*np.sin(theta*np.pi/(2*180))*X)\n",
    "def Ry(theta):\n",
    "    I=np.array([[1,0],[0,1]])\n",
    "    Y=np.array([[0,-1j],[1j,0]])\n",
    "    return (np.cos(theta*np.pi/(2*180))*I-1j*np.sin(theta*np.pi/(2*180))*Y)\n",
    "def Rz(theta):\n",
    "    I=np.array([[1,0],[0,1]])\n",
    "    Z=np.array([[1,0],[0,-1]])\n",
    "    return (np.cos(theta*np.pi/(2*180))*I-1j*np.sin(theta*np.pi/(2*180))*Z)"
   ]
  },
  {
   "cell_type": "markdown",
   "id": "4b90b50c",
   "metadata": {},
   "source": [
    "This block of code is randomly generating gate sequence of $X(\\theta_1),Y(\\theta_2)\\cdots$  by user specified length or we can input by ourself. "
   ]
  },
  {
   "cell_type": "code",
   "execution_count": 309,
   "id": "d3b1c617",
   "metadata": {},
   "outputs": [
    {
     "name": "stdout",
     "output_type": "stream",
     "text": [
      "Press y to enter sequence manually or n to generate sequence automatically: y\n",
      "Enter sequence of comma separated {Axis}({Angle}): X(33.3),Y(0.57)\n"
     ]
    }
   ],
   "source": [
    "k = ''\n",
    "while k not in ['y', 'n', 'Y', 'N']:\n",
    "    k = input('Press y to enter sequence manually or n to generate sequence automatically: ')\n",
    "\n",
    "if k in ['y', 'Y']:\n",
    "    q = input('Enter sequence of comma separated {Axis}({Angle}): ')\n",
    "    f = ''\n",
    "    \n",
    "    for l in q.split(','):\n",
    "        f = f'{f}{l}, '  \n",
    "        if l.split('(')[0] not in ['X', 'Y']:\n",
    "            raise Exception('Only X and Y allowed')\n",
    "            \n",
    "        if l.split('(')[1][:-1].replace('.','',1).isnumeric() == False:\n",
    "            raise Exception('Only numbers allowed')\n",
    "    \n",
    "    f = f'\"{f[:-2]}\"'\n",
    "\n",
    "else:\n",
    "    start, end, f , foo= 0, 360,\"\" , ['X', 'Y'] \n",
    "    print('Enter length of sequence:')\n",
    "    l = input()\n",
    "    l=int(l)\n",
    "\n",
    "    for _ in range(l):\n",
    "      x=random.choice(foo)\n",
    "      y = random.randint(start, end)\n",
    "      z=[f,x,'(',str(y),')',', ']\n",
    "      f = \"\".join(z)\n",
    "    f=f[:-2]\n",
    "    f=['\"',f,'\"']\n",
    "    f = \"\".join(f)\n"
   ]
  },
  {
   "cell_type": "markdown",
   "id": "1369a0b3",
   "metadata": {},
   "source": [
    "This block of the code combine the all the input sequence to get one single unitary operator."
   ]
  },
  {
   "cell_type": "code",
   "execution_count": 310,
   "id": "97013e01",
   "metadata": {},
   "outputs": [],
   "source": [
    "f=f[1:-1]\n",
    "f=f.split(', ')\n",
    "U=np.array([[1,0],[0,1]])\n",
    "for i in range(len(f)):\n",
    "    if f[i][0]=='X':\n",
    "        U=Rx(float(f[i][2:-1]))@U\n",
    "    else:\n",
    "        U=Ry(float(f[i][2:-1]))@U"
   ]
  },
  {
   "cell_type": "markdown",
   "id": "1c0e9373",
   "metadata": {},
   "source": [
    "In order to minimize the gate sequence, we can decompose the single qubit unitary matrix into general representation of rotation operators $R_x(\\alpha)R_y(\\theta)R_x(\\beta)$. Simplifying the expression gives us\n",
    "\\begin{align}\n",
    "R_x(\\alpha)R_y(\\theta)R_x(\\beta)=\n",
    "\\begin{bmatrix}\n",
    "\\cos\\left(\\frac{\\alpha+\\beta}{2}\\right) \\cos\\frac{\\theta}{2}+\\dot{\\iota}\\sin\\left(\\frac{\\alpha-\\beta}{2}\\right) \\sin\\frac{\\theta}{2}&-\\cos\\left(\\frac{\\alpha-\\beta}{2}\\right) \\sin\\frac{\\theta}{2}-\\dot{\\iota}\\sin\\left(\\frac{\\alpha+\\beta}{2}\\right) \\cos\\frac{\\theta}{2}\\\\\n",
    "\\cos\\left(\\frac{\\alpha-\\beta}{2}\\right) \\sin\\frac{\\theta}{2}-\\dot{\\iota}\\sin\\left(\\frac{\\alpha+\\beta}{2}\\right) \\cos\\frac{\\theta}{2}&\\cos\\left(\\frac{\\alpha+\\beta}{2}\\right) \\cos\\frac{\\theta}{2}-\\dot{\\iota}\\sin\\left(\\frac{\\alpha-\\beta}{2}\\right) \\sin\\frac{\\theta}{2}\n",
    "\\end{bmatrix}.\n",
    "\\end{align}\n",
    "\n",
    "The elemenets of the unitary matrix can be rewritten as a complex number. \n",
    "\\begin{align}\n",
    "U=\\begin{bmatrix}\n",
    "x+\\dot{\\iota}y& p+\\dot{\\iota}q \\\\\n",
    "-(p+\\dot{\\iota}q)^{*}&x-\\dot{\\iota}y\n",
    "\\end{bmatrix}.\n",
    "\\end{align}\n",
    "By equating real and complex elements of  $R_x(\\alpha)R_y(\\theta)R_x(\\beta)$ with $U$ leads to\n",
    "\\begin{align}\n",
    "x&=\\cos\\left(\\frac{\\alpha+\\beta}{2}\\right) \\cos\\frac{\\theta}{2},\\hspace{1cm} y=\\sin\\left(\\frac{\\alpha-\\beta}{2}\\right) \\sin\\frac{\\theta}{2} \\\\\n",
    "p&=-\\cos\\left(\\frac{\\alpha-\\beta}{2}\\right) \\sin\\frac{\\theta}{2},\\hspace{1cm} q=-sin\\left(\\frac{\\alpha+\\beta}{2}\\right) \\cos\\frac{\\theta}{2}.\n",
    "\\end{align}\n",
    "\n",
    "Using basic trigonometry, the angles are calculated as\n",
    "\\begin{align}\n",
    "\\alpha &=\\tan^{-1}\\left(\\frac{-q}{x}\\right)+\\tan^{-1}\\left(\\frac{y}{p}\\right)\\\\\n",
    "\\beta &=\\tan^{-1}\\left(\\frac{-q}{x}\\right)-\\tan^{-1}\\left(\\frac{y}{p}\\right) \\\\\n",
    "\\theta &=2 \\tan^{-1}\\left(\\frac{-p \\cos\\left(\\frac{\\alpha+\\beta}{2}\\right)}{x\\cos\\left(\\frac{\\alpha-\\beta}{2}\\right)}\\right).\n",
    "\\end{align}\n",
    "It shows that any arbitrary length of $X(\\theta_1)Y(\\theta_2)\\cdots$ gate operations can be implemented into $3$ basic rotations operators of the form $R_x(\\alpha)R_y(\\theta)R_x(\\beta)$."
   ]
  },
  {
   "cell_type": "code",
   "execution_count": 311,
   "id": "3d7e2204",
   "metadata": {},
   "outputs": [],
   "source": [
    "x,y,p,q=np.real(U[0,0]),np.imag(U[0,0]),np.real(U[0,1]),np.imag(U[0,1])\n",
    "\n",
    "if (x==0):\n",
    "    x=10**(-9)\n",
    "if (p==0):\n",
    "    p=10**(-9)\n",
    "alpha=np.arctan(-q/x)+np.arctan(y/p)\n",
    "beta=np.arctan(-q/x)-np.arctan(y/p)\n",
    "theta=2*np.arctan((-p/x)*(np.cos((alpha+beta)/2)/np.cos((alpha-beta)/2)))\n"
   ]
  },
  {
   "cell_type": "markdown",
   "id": "aa4c3f1f",
   "metadata": {},
   "source": [
    "To prove that the $U_2=U_1$, it must hold the following property of unitary operators\n",
    "\\begin{align}\n",
    "U_{1}U_{2}^{\\dagger}=I.\n",
    "\\end{align}\n",
    "The code below outputs the identity operator which proves that $U_2=U_1$."
   ]
  },
  {
   "cell_type": "code",
   "execution_count": 312,
   "id": "e4ab3546",
   "metadata": {
    "scrolled": true
   },
   "outputs": [
    {
     "name": "stdout",
     "output_type": "stream",
     "text": [
      "[[ 1.-0.j -0.+0.j]\n",
      " [ 0.+0.j  1.+0.j]]\n"
     ]
    }
   ],
   "source": [
    "U2=Rx(alpha*180/np.pi)@Ry(theta*180/np.pi)@Rx(beta*180/np.pi)\n",
    "U1=np.matrix(U)\n",
    "print(np.round(U2@U1.getH(),7)) "
   ]
  },
  {
   "cell_type": "markdown",
   "id": "632932c1",
   "metadata": {},
   "source": [
    "This block of the code outputs $\\alpha$, $\\theta$ and $\\beta$ in the require form of output."
   ]
  },
  {
   "cell_type": "code",
   "execution_count": 285,
   "id": "d52b53f5",
   "metadata": {},
   "outputs": [
    {
     "name": "stdout",
     "output_type": "stream",
     "text": [
      "\"Y(130.0)\"\n"
     ]
    }
   ],
   "source": [
    "def print_seq(alpha,beta,theta,str_decomposition):\n",
    "    alpha=alpha*180/np.pi\n",
    "    theta=theta*180/np.pi\n",
    "    beta=beta*180/np.pi\n",
    "    z=[str_decomposition[0],'(',str(alpha),')',', ',str_decomposition[1],'(',str(theta),')',', ',str_decomposition[2],'(',str(beta),')',', ']\n",
    "    f = \"\".join(z)\n",
    "    f=f[:-2]\n",
    "    f=['\"',f,'\"']\n",
    "    f = \"\".join(f)\n",
    "    f=f[1:-1]\n",
    "    f=f.split(', ')\n",
    "   \n",
    "    if alpha in {0,180,360} :\n",
    "      del(f[0])\n",
    "    if beta in {0,180,360}:\n",
    "      del(f[-1])\n",
    "    if theta in {0,180,360}:\n",
    "      f=['X','(',str(alpha+beta),')']\n",
    "      f = \"\".join(f)\n",
    "    else:\n",
    "      f = \", \".join(f)\n",
    "\n",
    "    f=['\"',f,'\"']\n",
    "    f = \"\".join(f)\n",
    "    \n",
    "    return print(f)\n",
    "print_seq(alpha,beta,theta,'XYX')"
   ]
  },
  {
   "cell_type": "markdown",
   "id": "765abfbc",
   "metadata": {},
   "source": [
    "# Part 2"
   ]
  },
  {
   "cell_type": "markdown",
   "id": "acfbddf0",
   "metadata": {},
   "source": [
    "### Given Input"
   ]
  },
  {
   "cell_type": "markdown",
   "id": "ff0854aa",
   "metadata": {},
   "source": [
    "The input sequence as previously specified is given. However, this program will be run on a computer that does not support Y rotations."
   ]
  },
  {
   "cell_type": "markdown",
   "id": "47c8c777",
   "metadata": {},
   "source": [
    "### Required Output"
   ]
  },
  {
   "cell_type": "markdown",
   "id": "9ed832e1",
   "metadata": {},
   "source": [
    "Generate a list of sequential rotations of gates $X$ and $Z$ to perform on the qubit optimised to perform as few individual rotations as possible."
   ]
  },
  {
   "cell_type": "markdown",
   "id": "91ee803f",
   "metadata": {},
   "source": [
    "## Solution"
   ]
  },
  {
   "cell_type": "markdown",
   "id": "84a26139",
   "metadata": {},
   "source": [
    "In the experiment, we do not have the $Y\\left(\\theta\\right)$ available. The simple solution to this problem is to replace the $Y\\left(\\theta\\right)$ gate with the other basic gates. The following relation is useful if we have only $X$ and $Z$ gates are available\n",
    "\\begin{align}\n",
    "Y\\left(\\theta\\right)=Z\\left(90\\right)X\\left(\\theta\\right)Z\\left(-90\\right)\n",
    "\\end{align}\n"
   ]
  },
  {
   "cell_type": "code",
   "execution_count": 286,
   "id": "91c57cd4",
   "metadata": {},
   "outputs": [
    {
     "name": "stdout",
     "output_type": "stream",
     "text": [
      "[[1.+0.j 0.+0.j]\n",
      " [0.+0.j 1.+0.j]]\n"
     ]
    }
   ],
   "source": [
    "U3=Rx(alpha*180/np.pi)@Rz(90)@Rx(theta*180/np.pi)@Rz(-90)@Rx(beta*180/np.pi)\n",
    "print(np.round(U3@U1.getH(),7))"
   ]
  },
  {
   "cell_type": "markdown",
   "id": "88de821d",
   "metadata": {},
   "source": [
    "In the above code, we utilize $5$ gates to implement the unitary matrix. To further decompose into smaller gates, we can decompose the unitary matrix into  $R_z(\\alpha)R_y(\\theta)R_z(\\beta)$. Simplifying the expression gives us\n",
    "\\begin{align}\n",
    "R_z(\\alpha)R_y(\\theta)R_z(\\beta)=\n",
    "\\begin{bmatrix}\n",
    "e^{-\\dot{\\iota} \\left(\\frac{\\alpha+\\beta}{2}\\right)} \\cos\\frac{\\theta}{2}&-e^{-\\dot{\\iota} \\left(\\frac{\\alpha-\\beta}{2}\\right)}\\sin\\frac{\\theta}{2}\\\\\n",
    "e^{\\dot{\\iota} \\left(\\frac{\\alpha-\\beta}{2}\\right)}\\sin\\frac{\\theta}{2}&e^{\\dot{\\iota} \\left(\\frac{\\alpha+\\beta}{2}\\right)} \\cos\\frac{\\theta}{2}\n",
    "\\end{bmatrix}.\n",
    "\\end{align}\n",
    "\n",
    "By equating real and complex elements of  $R_x(\\alpha)R_y(\\theta)R_x(\\beta)$ with $U$ leads to\n",
    "\\begin{align}\n",
    "x&=\\cos\\left(\\frac{\\alpha+\\beta}{2}\\right) \\cos\\frac{\\theta}{2},\\hspace{1cm} y=-\\sin\\left(\\frac{\\alpha-\\beta}{2}\\right) \\cos\\frac{\\theta}{2} \\\\\n",
    "p&=\\cos\\left(\\frac{\\alpha-\\beta}{2}\\right) \\sin\\frac{\\theta}{2},\\hspace{1cm} q=-sin\\left(\\frac{\\alpha+\\beta}{2}\\right) \\sin\\frac{\\theta}{2}.\n",
    "\\end{align}\n",
    "\n",
    "Using basic trigonometry, the angles are calculated as\n",
    "\\begin{align}\n",
    "\\alpha &=\\tan^{-1}\\left(\\frac{-y}{x}\\right)+\\tan^{-1}\\left(\\frac{-q}{p}\\right)\\\\\n",
    "\\beta &=\\tan^{-1}\\left(\\frac{-y}{x}\\right)-\\tan^{-1}\\left(\\frac{-q}{p}\\right) \\\\\n",
    "\\theta &=2 \\tan^{-1}\\left(\\sqrt{\\frac{p^{2}+q^{2}}{x^{2}+y^{2}}}\\right).\n",
    "\\end{align}\n",
    "It shows that any arbitrary length of $X(\\theta_1)Y(\\theta_2)\\cdots$ gate operations can be implemented into $3$ basic rotations operators of the form $R_z(\\alpha)R_y(\\theta)R_z(\\beta)$."
   ]
  },
  {
   "cell_type": "code",
   "execution_count": 287,
   "id": "1617410a",
   "metadata": {},
   "outputs": [],
   "source": [
    "x,y,p,q=np.real(U[0,0]),np.imag(U[0,0]),np.real(U[0,1]),np.imag(U[0,1])\n",
    "\n",
    "if (x==0):\n",
    "    x=10**(-7)\n",
    "if (p==0):\n",
    "    p=10**(-7)\n",
    "alpha=np.arctan(-y/x)+np.arctan(-q/p)\n",
    "beta=np.arctan(-y/x)-np.arctan(-q/p)\n",
    "theta_p=2*np.arctan(np.sqrt((p**2 +q**2)/(x**2 +y**2)))  \n",
    "theta_m=2*np.arctan(-np.sqrt((p**2 +q**2)/(x**2 +y**2)))  "
   ]
  },
  {
   "cell_type": "markdown",
   "id": "4caa66b7",
   "metadata": {},
   "source": [
    "The relationship can be written as\n",
    "\\begin{align}\n",
    "R_z(\\alpha)R_y(\\theta)R_z(\\beta)&=R_z(\\alpha)R_z(90)R_x(\\theta)R_z(-90)R_z(\\beta)\\\\\n",
    "&=R_z(\\alpha+90)R_x(\\theta)R_z(\\beta-90)\n",
    "\\end{align}"
   ]
  },
  {
   "cell_type": "markdown",
   "id": "1473992f",
   "metadata": {},
   "source": [
    "We obtain the two different values of $\\theta$. We use the value which gives the identity with actual unitary. For the verification of our unitary"
   ]
  },
  {
   "cell_type": "code",
   "execution_count": 290,
   "id": "321e0ac6",
   "metadata": {},
   "outputs": [
    {
     "name": "stdout",
     "output_type": "stream",
     "text": [
      "[[1.+0.j 0.+0.j]\n",
      " [0.+0.j 1.+0.j]]\n",
      "[[-0.642788+0.j  0.766044+0.j]\n",
      " [-0.766044+0.j -0.642788+0.j]]\n"
     ]
    }
   ],
   "source": [
    "U4_p=Rz(alpha*180/np.pi+90)@Rx(theta_p*180/np.pi)@Rz(beta*180/np.pi-90 )\n",
    "U4_m=Rz(alpha*180/np.pi+90)@Rx(theta_m*180/np.pi)@Rz(beta*180/np.pi-90 )\n",
    "print(np.round(U4_p@U1.getH(),6))\n",
    "print(np.round(U4_m@U1.getH(),6))"
   ]
  },
  {
   "cell_type": "markdown",
   "id": "0063ef12",
   "metadata": {},
   "source": [
    "This block of the code outputs $\\alpha$, $\\theta$ and $\\beta$ in the require form of output."
   ]
  },
  {
   "cell_type": "code",
   "execution_count": 291,
   "id": "3f6c52c0",
   "metadata": {},
   "outputs": [
    {
     "name": "stdout",
     "output_type": "stream",
     "text": [
      "\"X(130.0)\"\n"
     ]
    }
   ],
   "source": [
    "print_seq(alpha,beta,theta,'ZXZ')"
   ]
  },
  {
   "cell_type": "markdown",
   "id": "2fa5da6e",
   "metadata": {},
   "source": [
    "# Part 3"
   ]
  },
  {
   "cell_type": "markdown",
   "id": "f90bc6a0",
   "metadata": {},
   "source": [
    "### Given Input"
   ]
  },
  {
   "cell_type": "markdown",
   "id": "de3f29de",
   "metadata": {},
   "source": [
    "Configurable parameters which takes different nanoseconds to complete"
   ]
  },
  {
   "cell_type": "markdown",
   "id": "d7ea6b41",
   "metadata": {},
   "source": [
    "### Required Output"
   ]
  },
  {
   "cell_type": "markdown",
   "id": "125cc581",
   "metadata": {},
   "source": [
    "Optimise the instruction sequence such that the total time taken is minimised"
   ]
  },
  {
   "cell_type": "markdown",
   "id": "369d7dae",
   "metadata": {},
   "source": [
    "## Solution"
   ]
  },
  {
   "cell_type": "markdown",
   "id": "bd42c303",
   "metadata": {},
   "source": [
    "In the experiment, if the gates are time dependent,  then we select the decomposition depending on time taken by the gates length. For this purpose, we will require $R_x(\\alpha)R_z(\\theta)R_x(\\beta)$ decomposition.  Simplifying the expression gives us\n",
    "\\begin{align}\n",
    "R_x(\\alpha)R_z(\\theta)R_x(\\beta)=\n",
    "\\begin{bmatrix}\n",
    "\\cos\\left(\\frac{\\alpha+\\beta}{2}\\right) \\cos\\frac{\\theta}{2}+\\dot{\\iota}\\cos\\left(\\frac{\\alpha-\\beta}{2}\\right) \\sin\\frac{\\theta}{2}&-\\sin\\left(\\frac{\\alpha-\\beta}{2}\\right) \\sin\\frac{\\theta}{2}-\\dot{\\iota}\\sin\\left(\\frac{\\alpha+\\beta}{2}\\right) \\cos\\frac{\\theta}{2}\\\\\n",
    "\\sin\\left(\\frac{\\alpha-\\beta}{2}\\right) \\sin\\frac{\\theta}{2}-\\dot{\\iota}\\sin\\left(\\frac{\\alpha+\\beta}{2}\\right) \\cos\\frac{\\theta}{2}&\\cos\\left(\\frac{\\alpha+\\beta}{2}\\right) \\cos\\frac{\\theta}{2}-\\dot{\\iota}\\cos\\left(\\frac{\\alpha-\\beta}{2}\\right) \\sin\\frac{\\theta}{2}\n",
    "\\end{bmatrix}.\n",
    "\\end{align}\n",
    "\n",
    "By equating real and complex elements of  $R_x(\\alpha)R_y(\\theta)R_x(\\beta)$ with $U$ leads to\n",
    "\\begin{align}\n",
    "x&=\\cos\\left(\\frac{\\alpha+\\beta}{2}\\right) \\cos\\frac{\\theta}{2},\\hspace{1cm} y=\\cos\\left(\\frac{\\alpha-\\beta}{2}\\right) \\sin\\frac{\\theta}{2} \\\\\n",
    "p&=-\\sin\\left(\\frac{\\alpha-\\beta}{2}\\right) \\sin\\frac{\\theta}{2},\\hspace{1cm} q=-sin\\left(\\frac{\\alpha+\\beta}{2}\\right) \\cos\\frac{\\theta}{2}.\n",
    "\\end{align}\n",
    "\n",
    "Using basic trigonometry, the angles are calculated as\n",
    "\\begin{align}\n",
    "\\alpha &=\\tan^{-1}\\left(\\frac{-q}{x}\\right)+\\tan^{-1}\\left(\\frac{p}{y}\\right)\\\\\n",
    "\\beta &=\\tan^{-1}\\left(\\frac{-q}{x}\\right)-\\tan^{-1}\\left(\\frac{-p}{y}\\right) \\\\\n",
    "\\theta &=2 \\tan^{-1}\\left(\\frac{p \\sin\\left(\\frac{\\alpha-\\beta}{2}\\right)}{x\\cos\\left(\\frac{\\alpha+\\beta}{2}\\right)}\\right).\n",
    "\\end{align}\n",
    "It shows that any arbitrary length of $X(\\theta_1)Y(\\theta_2)\\cdots$ gate operations can be implemented into $3$ basic rotations operators of the form $R_x(\\alpha)R_z(\\theta)R_x(\\beta)$."
   ]
  },
  {
   "cell_type": "markdown",
   "id": "aeb18784",
   "metadata": {},
   "source": [
    "This block of the sequence asks the user to input the timing of $X$ and $Z$ gate. Based on timing, the program selects the optimized sequence control."
   ]
  },
  {
   "cell_type": "code",
   "execution_count": 308,
   "id": "199c65f8",
   "metadata": {},
   "outputs": [
    {
     "name": "stdout",
     "output_type": "stream",
     "text": [
      "Enter timing  of Gate Z:0.4\n",
      "Enter timing of Gate X:0.3\n",
      "Optimize sequence of gate\n",
      "\"X(-48.0), Z(83.21235989851225), X(-105.00000000000003)\"\n"
     ]
    }
   ],
   "source": [
    "x,y,p,q=np.real(U[0,0]),np.imag(U[0,0]),np.real(U[0,1]),np.imag(U[0,1])\n",
    "\n",
    "A = input('Enter timing  of Gate Z:')\n",
    "B = input('Enter timing of Gate X:')\n",
    "\n",
    "if A.replace('.','',1).isnumeric() and B.replace('.','',1).isnumeric():\n",
    "    \n",
    "    lengthz=float(A)\n",
    "    lengthx=float(B)\n",
    "    \n",
    "    if lengthz<lengthx:\n",
    "        if (x==0):\n",
    "            x=10**(-7)\n",
    "        if (p==0):\n",
    "            p=10**(-7)\n",
    "        alpha=np.arctan(-y/x)+np.arctan(-q/p)\n",
    "        beta=np.arctan(-y/x)-np.arctan(-q/p)\n",
    "        theta_p=2*np.arctan(np.sqrt((p**2 +q**2)/(x**2 +y**2)))  \n",
    "        theta_m=2*np.arctan(-np.sqrt((p**2 +q**2)/(x**2 +y**2)))  \n",
    "        U4_p=Rz(alpha*180/np.pi+90)@Rx(theta_p*180/np.pi)@Rz(beta*180/np.pi-90 )\n",
    "        U4_m=Rz(alpha*180/np.pi+90)@Rx(theta_m*180/np.pi)@Rz(beta*180/np.pi-90 )\n",
    "        if(np.eye(2) in abs(np.real(np.round(U4_m@U1.getH(),7)))):\n",
    "            theta= theta_m\n",
    "        else:\n",
    "            theta= theta_p\n",
    "        print('Optimize sequence of gate')    \n",
    "        print_seq(alpha,beta,theta,'ZXZ')\n",
    "    else:\n",
    "        if (y==0):\n",
    "            y=10**(-8)\n",
    "        if (x==0):\n",
    "            x=10**(-8)   \n",
    "        alpha=np.arctan(-q/x)+np.arctan(-p/y)\n",
    "        beta=np.arctan(-q/x)-np.arctan(-p/y)\n",
    "        theta=2*np.arctan((p/x)*(np.sin((alpha-beta)/2)/np.cos((alpha+beta)/2))) \n",
    "        U5=Rx(alpha*180/np.pi)@Rz(theta*180/np.pi)@Rx(beta*180/np.pi)\n",
    "        print('Optimize sequence of gate')\n",
    "        print_seq(alpha,beta,theta,'XZX')\n",
    "else:\n",
    "    raise Exception('A or B is not a number')"
   ]
  },
  {
   "cell_type": "code",
   "execution_count": null,
   "id": "d570e6a6",
   "metadata": {},
   "outputs": [],
   "source": []
  },
  {
   "cell_type": "code",
   "execution_count": null,
   "id": "5e772470",
   "metadata": {},
   "outputs": [],
   "source": []
  }
 ],
 "metadata": {
  "kernelspec": {
   "display_name": "Python 3 (ipykernel)",
   "language": "python",
   "name": "python3"
  },
  "language_info": {
   "codemirror_mode": {
    "name": "ipython",
    "version": 3
   },
   "file_extension": ".py",
   "mimetype": "text/x-python",
   "name": "python",
   "nbconvert_exporter": "python",
   "pygments_lexer": "ipython3",
   "version": "3.9.7"
  }
 },
 "nbformat": 4,
 "nbformat_minor": 5
}
